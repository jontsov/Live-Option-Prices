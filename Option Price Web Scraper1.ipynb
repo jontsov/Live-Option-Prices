{
 "cells": [
  {
   "cell_type": "code",
   "execution_count": 1,
   "metadata": {},
   "outputs": [
    {
     "name": "stdout",
     "output_type": "stream",
     "text": [
      "Requirement already satisfied: yfinance in /Library/Frameworks/Python.framework/Versions/3.13/lib/python3.13/site-packages (0.2.51)\n",
      "Requirement already satisfied: pandas>=1.3.0 in /Library/Frameworks/Python.framework/Versions/3.13/lib/python3.13/site-packages (from yfinance) (2.2.3)\n",
      "Requirement already satisfied: numpy>=1.16.5 in /Library/Frameworks/Python.framework/Versions/3.13/lib/python3.13/site-packages (from yfinance) (2.2.1)\n",
      "Requirement already satisfied: requests>=2.31 in /Library/Frameworks/Python.framework/Versions/3.13/lib/python3.13/site-packages (from yfinance) (2.32.3)\n",
      "Requirement already satisfied: multitasking>=0.0.7 in /Library/Frameworks/Python.framework/Versions/3.13/lib/python3.13/site-packages (from yfinance) (0.0.11)\n",
      "Requirement already satisfied: lxml>=4.9.1 in /Library/Frameworks/Python.framework/Versions/3.13/lib/python3.13/site-packages (from yfinance) (5.3.0)\n",
      "Requirement already satisfied: platformdirs>=2.0.0 in /Users/yordantsanov/Library/Python/3.13/lib/python/site-packages (from yfinance) (4.3.6)\n",
      "Requirement already satisfied: pytz>=2022.5 in /Library/Frameworks/Python.framework/Versions/3.13/lib/python3.13/site-packages (from yfinance) (2024.2)\n",
      "Requirement already satisfied: frozendict>=2.3.4 in /Library/Frameworks/Python.framework/Versions/3.13/lib/python3.13/site-packages (from yfinance) (2.4.6)\n",
      "Requirement already satisfied: peewee>=3.16.2 in /Library/Frameworks/Python.framework/Versions/3.13/lib/python3.13/site-packages (from yfinance) (3.17.8)\n",
      "Requirement already satisfied: beautifulsoup4>=4.11.1 in /Library/Frameworks/Python.framework/Versions/3.13/lib/python3.13/site-packages (from yfinance) (4.12.3)\n",
      "Requirement already satisfied: html5lib>=1.1 in /Library/Frameworks/Python.framework/Versions/3.13/lib/python3.13/site-packages (from yfinance) (1.1)\n",
      "Requirement already satisfied: soupsieve>1.2 in /Library/Frameworks/Python.framework/Versions/3.13/lib/python3.13/site-packages (from beautifulsoup4>=4.11.1->yfinance) (2.6)\n",
      "Requirement already satisfied: six>=1.9 in /Users/yordantsanov/Library/Python/3.13/lib/python/site-packages (from html5lib>=1.1->yfinance) (1.17.0)\n",
      "Requirement already satisfied: webencodings in /Library/Frameworks/Python.framework/Versions/3.13/lib/python3.13/site-packages (from html5lib>=1.1->yfinance) (0.5.1)\n",
      "Requirement already satisfied: python-dateutil>=2.8.2 in /Users/yordantsanov/Library/Python/3.13/lib/python/site-packages (from pandas>=1.3.0->yfinance) (2.9.0.post0)\n",
      "Requirement already satisfied: tzdata>=2022.7 in /Library/Frameworks/Python.framework/Versions/3.13/lib/python3.13/site-packages (from pandas>=1.3.0->yfinance) (2024.2)\n",
      "Requirement already satisfied: charset-normalizer<4,>=2 in /Library/Frameworks/Python.framework/Versions/3.13/lib/python3.13/site-packages (from requests>=2.31->yfinance) (3.4.1)\n",
      "Requirement already satisfied: idna<4,>=2.5 in /Library/Frameworks/Python.framework/Versions/3.13/lib/python3.13/site-packages (from requests>=2.31->yfinance) (3.10)\n",
      "Requirement already satisfied: urllib3<3,>=1.21.1 in /Library/Frameworks/Python.framework/Versions/3.13/lib/python3.13/site-packages (from requests>=2.31->yfinance) (2.3.0)\n",
      "Requirement already satisfied: certifi>=2017.4.17 in /Library/Frameworks/Python.framework/Versions/3.13/lib/python3.13/site-packages (from requests>=2.31->yfinance) (2024.12.14)\n",
      "Note: you may need to restart the kernel to use updated packages.\n",
      "Requirement already satisfied: pandas in /Library/Frameworks/Python.framework/Versions/3.13/lib/python3.13/site-packages (2.2.3)\n",
      "Requirement already satisfied: numpy>=1.26.0 in /Library/Frameworks/Python.framework/Versions/3.13/lib/python3.13/site-packages (from pandas) (2.2.1)\n",
      "Requirement already satisfied: python-dateutil>=2.8.2 in /Users/yordantsanov/Library/Python/3.13/lib/python/site-packages (from pandas) (2.9.0.post0)\n",
      "Requirement already satisfied: pytz>=2020.1 in /Library/Frameworks/Python.framework/Versions/3.13/lib/python3.13/site-packages (from pandas) (2024.2)\n",
      "Requirement already satisfied: tzdata>=2022.7 in /Library/Frameworks/Python.framework/Versions/3.13/lib/python3.13/site-packages (from pandas) (2024.2)\n",
      "Requirement already satisfied: six>=1.5 in /Users/yordantsanov/Library/Python/3.13/lib/python/site-packages (from python-dateutil>=2.8.2->pandas) (1.17.0)\n",
      "Note: you may need to restart the kernel to use updated packages.\n"
     ]
    }
   ],
   "source": [
    "#Option prices web scraper\n",
    "#As TWS does not provide live bid and ask prices for the option contracts of the symbols traded and require a data subscription instead to get that info,\n",
    "#I pose this as my personal challenge in my trading and coding journey to build an application that would provide me the live quotes of the bid and ask\n",
    "#for at least 5 contracts on a given option contract.\n",
    "#For example, I want to see the Bid and Ask and the last traded price for ADBE on 17.01.2025 Call and Put Contract for 5 Strike prices\n",
    "\n",
    "#install yahoo_fin package\n",
    "%pip install yfinance\n",
    "%pip install pandas\n",
    "\n",
    "import yfinance as yf\n",
    "import pandas as pd"
   ]
  },
  {
   "cell_type": "code",
   "execution_count": 2,
   "metadata": {},
   "outputs": [
    {
     "name": "stdout",
     "output_type": "stream",
     "text": [
      "Today's date: 2025-01-12\n"
     ]
    }
   ],
   "source": [
    "from datetime import date\n",
    "\n",
    "# Get today's date\n",
    "today = date.today()\n",
    "print(\"Today's date:\", today)  # Output: YYYY-MM-DD format\n"
   ]
  },
  {
   "cell_type": "code",
   "execution_count": 3,
   "metadata": {},
   "outputs": [],
   "source": [
    "def get_options_data(ticker):\n",
    "    stock = yf.Ticker(ticker)\n",
    "    options_dates = stock.options  # Get available expiration dates\n",
    "    all_options_data = []\n",
    "\n",
    "    for date in options_dates:\n",
    "        option_chain = stock.option_chain()\n",
    "        calls = option_chain.calls\n",
    "        puts = option_chain.puts\n",
    "\n",
    "        # Add expiration date to the data\n",
    "        calls['expirationDate'] = date\n",
    "        puts['expirationDate'] = date\n",
    "\n",
    "        all_options_data.append(calls)\n",
    "        all_options_data.append(puts)\n",
    "\n",
    "    # Combine all data into a single DataFrame\n",
    "    options_df = pd.concat(all_options_data, ignore_index=True)\n",
    "    return options_df\n"
   ]
  },
  {
   "cell_type": "code",
   "execution_count": 4,
   "metadata": {},
   "outputs": [
    {
     "name": "stdout",
     "output_type": "stream",
     "text": [
      "          contractSymbol             lastTradeDate  strike  lastPrice   bid  \\\n",
      "42   ADBE250117C00400000 2025-01-10 20:56:41+00:00   400.0      10.15  9.50   \n",
      "43   ADBE250117C00405000 2025-01-10 20:59:46+00:00   405.0       6.80  6.20   \n",
      "44   ADBE250117C00410000 2025-01-10 20:57:30+00:00   410.0       4.65  4.15   \n",
      "177  ADBE250117P00400000 2025-01-10 20:59:23+00:00   400.0       3.52  3.45   \n",
      "178  ADBE250117P00405000 2025-01-10 20:59:51+00:00   405.0       5.55  5.25   \n",
      "\n",
      "       ask     change  percentChange  volume  openInterest  impliedVolatility  \\\n",
      "42   10.30 -12.110001     -54.402520    52.0           295           0.311835   \n",
      "43    7.10 -16.160000     -70.383280    65.0             8           0.295967   \n",
      "44    4.55  -8.799999     -65.427505  1362.0           537           0.283210   \n",
      "177   3.75   2.320000     193.333310  1552.0          3320           0.281684   \n",
      "178   5.80   3.650000     192.105270  1680.0          2175           0.278999   \n",
      "\n",
      "     inTheMoney contractSize currency expirationDate  \n",
      "42         True      REGULAR      USD     2025-01-17  \n",
      "43         True      REGULAR      USD     2025-01-17  \n",
      "44        False      REGULAR      USD     2025-01-17  \n",
      "177       False      REGULAR      USD     2025-01-17  \n",
      "178       False      REGULAR      USD     2025-01-17  \n"
     ]
    }
   ],
   "source": [
    "#Displaying the desired option price\n",
    "\n",
    "ticker_symbol = 'ADBE'  # Adobe stock\n",
    "options_data = get_options_data(ticker_symbol)\n",
    "#filtered_options = options_data[options_data['lastPrice'] > 407.50]\n",
    "filtered_options = options_data[(options_data['strike'] >= 400) & (options_data['strike'] <= 410)]\n",
    "\n",
    "print(filtered_options.head())  # Display the first few rows of the options data\n"
   ]
  }
 ],
 "metadata": {
  "kernelspec": {
   "display_name": "Python 3",
   "language": "python",
   "name": "python3"
  },
  "language_info": {
   "codemirror_mode": {
    "name": "ipython",
    "version": 3
   },
   "file_extension": ".py",
   "mimetype": "text/x-python",
   "name": "python",
   "nbconvert_exporter": "python",
   "pygments_lexer": "ipython3",
   "version": "3.13.1"
  }
 },
 "nbformat": 4,
 "nbformat_minor": 2
}
