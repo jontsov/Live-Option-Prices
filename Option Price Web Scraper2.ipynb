{
 "cells": [
  {
   "cell_type": "code",
   "execution_count": 16,
   "metadata": {},
   "outputs": [
    {
     "name": "stdout",
     "output_type": "stream",
     "text": [
      "Requirement already satisfied: yfinance in /Library/Frameworks/Python.framework/Versions/3.13/lib/python3.13/site-packages (0.2.51)\n",
      "Requirement already satisfied: pandas>=1.3.0 in /Library/Frameworks/Python.framework/Versions/3.13/lib/python3.13/site-packages (from yfinance) (2.2.3)\n",
      "Requirement already satisfied: numpy>=1.16.5 in /Library/Frameworks/Python.framework/Versions/3.13/lib/python3.13/site-packages (from yfinance) (2.2.1)\n",
      "Requirement already satisfied: requests>=2.31 in /Library/Frameworks/Python.framework/Versions/3.13/lib/python3.13/site-packages (from yfinance) (2.32.3)\n",
      "Requirement already satisfied: multitasking>=0.0.7 in /Library/Frameworks/Python.framework/Versions/3.13/lib/python3.13/site-packages (from yfinance) (0.0.11)\n",
      "Requirement already satisfied: lxml>=4.9.1 in /Library/Frameworks/Python.framework/Versions/3.13/lib/python3.13/site-packages (from yfinance) (5.3.0)\n",
      "Requirement already satisfied: platformdirs>=2.0.0 in /Users/yordantsanov/Library/Python/3.13/lib/python/site-packages (from yfinance) (4.3.6)\n",
      "Requirement already satisfied: pytz>=2022.5 in /Library/Frameworks/Python.framework/Versions/3.13/lib/python3.13/site-packages (from yfinance) (2024.2)\n",
      "Requirement already satisfied: frozendict>=2.3.4 in /Library/Frameworks/Python.framework/Versions/3.13/lib/python3.13/site-packages (from yfinance) (2.4.6)\n",
      "Requirement already satisfied: peewee>=3.16.2 in /Library/Frameworks/Python.framework/Versions/3.13/lib/python3.13/site-packages (from yfinance) (3.17.8)\n",
      "Requirement already satisfied: beautifulsoup4>=4.11.1 in /Library/Frameworks/Python.framework/Versions/3.13/lib/python3.13/site-packages (from yfinance) (4.12.3)\n",
      "Requirement already satisfied: html5lib>=1.1 in /Library/Frameworks/Python.framework/Versions/3.13/lib/python3.13/site-packages (from yfinance) (1.1)\n",
      "Requirement already satisfied: soupsieve>1.2 in /Library/Frameworks/Python.framework/Versions/3.13/lib/python3.13/site-packages (from beautifulsoup4>=4.11.1->yfinance) (2.6)\n",
      "Requirement already satisfied: six>=1.9 in /Users/yordantsanov/Library/Python/3.13/lib/python/site-packages (from html5lib>=1.1->yfinance) (1.17.0)\n",
      "Requirement already satisfied: webencodings in /Library/Frameworks/Python.framework/Versions/3.13/lib/python3.13/site-packages (from html5lib>=1.1->yfinance) (0.5.1)\n",
      "Requirement already satisfied: python-dateutil>=2.8.2 in /Users/yordantsanov/Library/Python/3.13/lib/python/site-packages (from pandas>=1.3.0->yfinance) (2.9.0.post0)\n",
      "Requirement already satisfied: tzdata>=2022.7 in /Library/Frameworks/Python.framework/Versions/3.13/lib/python3.13/site-packages (from pandas>=1.3.0->yfinance) (2024.2)\n",
      "Requirement already satisfied: charset-normalizer<4,>=2 in /Library/Frameworks/Python.framework/Versions/3.13/lib/python3.13/site-packages (from requests>=2.31->yfinance) (3.4.1)\n",
      "Requirement already satisfied: idna<4,>=2.5 in /Library/Frameworks/Python.framework/Versions/3.13/lib/python3.13/site-packages (from requests>=2.31->yfinance) (3.10)\n",
      "Requirement already satisfied: urllib3<3,>=1.21.1 in /Library/Frameworks/Python.framework/Versions/3.13/lib/python3.13/site-packages (from requests>=2.31->yfinance) (2.3.0)\n",
      "Requirement already satisfied: certifi>=2017.4.17 in /Library/Frameworks/Python.framework/Versions/3.13/lib/python3.13/site-packages (from requests>=2.31->yfinance) (2024.12.14)\n",
      "Note: you may need to restart the kernel to use updated packages.\n",
      "Requirement already satisfied: pandas in /Library/Frameworks/Python.framework/Versions/3.13/lib/python3.13/site-packages (2.2.3)\n",
      "Requirement already satisfied: numpy>=1.26.0 in /Library/Frameworks/Python.framework/Versions/3.13/lib/python3.13/site-packages (from pandas) (2.2.1)\n",
      "Requirement already satisfied: python-dateutil>=2.8.2 in /Users/yordantsanov/Library/Python/3.13/lib/python/site-packages (from pandas) (2.9.0.post0)\n",
      "Requirement already satisfied: pytz>=2020.1 in /Library/Frameworks/Python.framework/Versions/3.13/lib/python3.13/site-packages (from pandas) (2024.2)\n",
      "Requirement already satisfied: tzdata>=2022.7 in /Library/Frameworks/Python.framework/Versions/3.13/lib/python3.13/site-packages (from pandas) (2024.2)\n",
      "Requirement already satisfied: six>=1.5 in /Users/yordantsanov/Library/Python/3.13/lib/python/site-packages (from python-dateutil>=2.8.2->pandas) (1.17.0)\n",
      "Note: you may need to restart the kernel to use updated packages.\n"
     ]
    }
   ],
   "source": [
    "#Option prices web scraper\n",
    "#As TWS does not provide live bid and ask prices for the option contracts of the symbols traded and require a data subscription instead to get that info,\n",
    "#I pose this as my personal challenge in my trading and coding journey to build an application that would provide me the live quotes of the bid and ask\n",
    "#for at least 5 contracts on a given option contract.\n",
    "#For example, I want to see the Bid and Ask and the last traded price for ADBE on 17.01.2025 Call and Put Contract for 5 Strike prices\n",
    "\n",
    "#install yahoo_fin package\n",
    "%pip install yfinance\n",
    "%pip install pandas\n",
    "\n",
    "import yfinance as yf\n",
    "import pandas as pd"
   ]
  },
  {
   "cell_type": "code",
   "execution_count": 17,
   "metadata": {},
   "outputs": [
    {
     "name": "stdout",
     "output_type": "stream",
     "text": [
      "Today's date: 2025-01-13\n"
     ]
    }
   ],
   "source": [
    "from datetime import date\n",
    "\n",
    "# Get today's date\n",
    "today = date.today()\n",
    "print(\"Today's date:\", today)  # Output: YYYY-MM-DD format\n"
   ]
  },
  {
   "cell_type": "code",
   "execution_count": 18,
   "metadata": {},
   "outputs": [],
   "source": [
    "def get_options_data(ticker):\n",
    "    stock = yf.Ticker(ticker)\n",
    "    options_dates = stock.options  # Get available expiration dates\n",
    "    all_options_data = []\n",
    "\n",
    "    for date in options_dates:\n",
    "        option_chain = stock.option_chain()\n",
    "        calls = option_chain.calls\n",
    "        puts = option_chain.puts\n",
    "\n",
    "        # Add expiration date to the data\n",
    "        calls['expirationDate'] = date\n",
    "        puts['expirationDate'] = date\n",
    "\n",
    "        all_options_data.append(calls)\n",
    "        all_options_data.append(puts)\n",
    "\n",
    "    # Combine all data into a single DataFrame\n",
    "    options_df = pd.concat(all_options_data, ignore_index=True)\n",
    "    return options_df\n"
   ]
  },
  {
   "cell_type": "code",
   "execution_count": 19,
   "metadata": {},
   "outputs": [
    {
     "name": "stdout",
     "output_type": "stream",
     "text": [
      "        contractSymbol             lastTradeDate  strike  lastPrice   bid  \\\n",
      "23  OXY250117C00049500 2025-01-13 17:54:09+00:00    49.5       3.20  3.20   \n",
      "24  OXY250117C00050000 2025-01-13 19:10:40+00:00    50.0       2.86  2.83   \n",
      "25  OXY250117C00051000 2025-01-13 19:02:05+00:00    51.0       1.93  1.93   \n",
      "26  OXY250117C00052000 2025-01-13 19:08:22+00:00    52.0       1.15  1.15   \n",
      "27  OXY250117C00052500 2025-01-13 19:10:35+00:00    52.5       0.87  0.86   \n",
      "\n",
      "     ask  change  percentChange   volume  openInterest  impliedVolatility  \\\n",
      "23  3.40    1.20      60.000004     50.0           696           0.558598   \n",
      "24  2.89    1.16      68.235280   1694.0         16242           0.491216   \n",
      "25  1.99    0.94      94.949486   1478.0          2638           0.416998   \n",
      "26  1.21    0.61     112.962950   3720.0          3841           0.364264   \n",
      "27  0.89    0.52     148.571410  12376.0         23798           0.346198   \n",
      "\n",
      "    inTheMoney contractSize currency expirationDate  \n",
      "23        True      REGULAR      USD     2025-01-17  \n",
      "24        True      REGULAR      USD     2025-01-17  \n",
      "25        True      REGULAR      USD     2025-01-17  \n",
      "26        True      REGULAR      USD     2025-01-17  \n",
      "27        True      REGULAR      USD     2025-01-17  \n"
     ]
    }
   ],
   "source": [
    "#Displaying the desired option price\n",
    "\n",
    "ticker_symbol = 'OXY'  # Oxy stock\n",
    "options_data = get_options_data(ticker_symbol)\n",
    "filtered_options = options_data[(options_data['strike'] >= 49.5) & (options_data['strike'] <= 55)]\n",
    "\n",
    "# Currently attempting to get to be shown only Calls\n",
    "def get_options_data(ticker):\n",
    "    stock = yf.Ticker(ticker)\n",
    "    options_dates = stock.options  # Get available expiration dates\n",
    "    all_options_data = []\n",
    "    option_chain = stock.option_chain()\n",
    "    calls = options_chain.calls \n",
    "    puts = options_chain.puts\n",
    "        # Add expiration date to the data\n",
    "    calls['expirationDate'] = date\n",
    "    puts['expirationDate'] = date\n",
    "    all_options_data.append(calls)\n",
    "    all_options_data.append(puts)\n",
    "    filtered_options = options_data[options_data[calls] & ~options_data[puts]]\n",
    "print(filtered_options.head())  # Display the first few rows of the options data\n"
   ]
  },
  {
   "cell_type": "code",
   "execution_count": 20,
   "metadata": {},
   "outputs": [
    {
     "name": "stdout",
     "output_type": "stream",
     "text": [
      "         contractSymbol             lastTradeDate  strike  lastPrice   bid  \\\n",
      "77   OXY250117P00049500 2025-01-13 18:06:54+00:00    49.5       0.05  0.04   \n",
      "78   OXY250117P00050000 2025-01-13 18:49:15+00:00    50.0       0.07  0.06   \n",
      "79   OXY250117P00051000 2025-01-13 18:44:49+00:00    51.0       0.18  0.16   \n",
      "152  OXY250124P00049500 2025-01-13 16:58:11+00:00    49.5       0.17  0.15   \n",
      "153  OXY250124P00050000 2025-01-13 18:27:53+00:00    50.0       0.22  0.20   \n",
      "\n",
      "      ask  change  percentChange  volume  openInterest  impliedVolatility  \\\n",
      "77   0.05   -0.15     -75.000000    27.0           832           0.330085   \n",
      "78   0.07   -0.23     -76.666670   959.0         20325           0.310554   \n",
      "79   0.18   -0.44     -70.967740   787.0           705           0.291999   \n",
      "152  0.17   -0.23     -57.500000     2.0            48           0.291023   \n",
      "153  0.23   -0.29     -56.862747   122.0           215           0.284187   \n",
      "\n",
      "     inTheMoney contractSize currency expirationDate  \n",
      "77        False      REGULAR      USD     2025-01-17  \n",
      "78        False      REGULAR      USD     2025-01-17  \n",
      "79        False      REGULAR      USD     2025-01-17  \n",
      "152       False      REGULAR      USD     2025-01-24  \n",
      "153       False      REGULAR      USD     2025-01-24  \n"
     ]
    }
   ],
   "source": [
    "import yfinance as yf\n",
    "\n",
    "def get_options_data(ticker):\n",
    "    stock = yf.Ticker(ticker)\n",
    "    options_dates = stock.options  # Get available expiration dates\n",
    "    all_options_data = []\n",
    "    \n",
    "    # Correcting the variable name here\n",
    "    option_chain = stock.option_chain()  \n",
    "    calls = option_chain.calls \n",
    "    puts = option_chain.puts\n",
    "    \n",
    "    for date in options_dates:  # Loop through available expiration dates\n",
    "        option_chain = stock.option_chain(date)  # Get option chain for the specific date\n",
    "        calls = option_chain.calls \n",
    "        puts = option_chain.puts\n",
    "        \n",
    "        # Add expiration date to the data\n",
    "        calls['expirationDate'] = date\n",
    "        puts['expirationDate'] = date\n",
    "        all_options_data.append(calls)\n",
    "        all_options_data.append(puts)\n",
    "\n",
    "    return pd.concat(all_options_data, ignore_index=True)  # Combine all options data into a single DataFrame\n",
    "\n",
    "# Displaying the desired option price\n",
    "ticker_symbol = 'OXY'  # Oxy stock\n",
    "options_data = get_options_data(ticker_symbol)\n",
    "filtered_options = options_data[(options_data['strike'] >= 49.5) & (options_data['strike'] <= 51)]\n",
    "\n",
    "# Currently attempting to get to be shown only Puts\n",
    "filtered_puts = filtered_options[filtered_options['contractSymbol'].str.contains('P')]  # Filtering only Puts\n",
    "print(filtered_puts.head())  # Display the first few rows of the filtered puts data\n"
   ]
  }
 ],
 "metadata": {
  "kernelspec": {
   "display_name": "Python 3",
   "language": "python",
   "name": "python3"
  },
  "language_info": {
   "codemirror_mode": {
    "name": "ipython",
    "version": 3
   },
   "file_extension": ".py",
   "mimetype": "text/x-python",
   "name": "python",
   "nbconvert_exporter": "python",
   "pygments_lexer": "ipython3",
   "version": "3.13.1"
  }
 },
 "nbformat": 4,
 "nbformat_minor": 2
}
